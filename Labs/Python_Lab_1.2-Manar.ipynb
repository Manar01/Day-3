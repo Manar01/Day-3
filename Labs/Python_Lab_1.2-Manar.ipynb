{
 "cells": [
  {
   "cell_type": "markdown",
   "metadata": {},
   "source": [
    "# Python_Lab_1.2"
   ]
  },
  {
   "cell_type": "markdown",
   "metadata": {},
   "source": [
    "### Task 1: \n",
    "1. Create a tuple with the following details:\n",
    "    - Your favorite movie (string)\n",
    "    - The year it was released (integer)\n",
    "    - Its rating out of 10 (float)\n",
    "    - Whether you have watched it (boolean)\n",
    "2. Print the detailes"
   ]
  },
  {
   "cell_type": "code",
   "execution_count": null,
   "metadata": {},
   "outputs": [
    {
     "name": "stdout",
     "output_type": "stream",
     "text": [
      "my favorite movie details:\n",
      "('The Godfather', 1972, 9.2, True)\n"
     ]
    }
   ],
   "source": [
    "fav_m=('The Godfather', 1972, 9.2, True)\n",
    "print('My favorite movie details:')\n",
    "print(fav)"
   ]
  },
  {
   "cell_type": "markdown",
   "metadata": {},
   "source": [
    "### Task 2:\n",
    "1. Create a set of 5 favorite colors.\n",
    "2. Print all the colors"
   ]
  },
  {
   "cell_type": "code",
   "execution_count": 4,
   "metadata": {},
   "outputs": [
    {
     "name": "stdout",
     "output_type": "stream",
     "text": [
      "My favorite colors are:\n",
      "('blue', 'green', 'yellow', 'black', 'pink')\n"
     ]
    }
   ],
   "source": [
    "fav_c=('blue', 'green', 'yellow', 'black', 'pink')\n",
    "print('My favorite colors are:')\n",
    "print(fav_c)"
   ]
  },
  {
   "cell_type": "markdown",
   "metadata": {},
   "source": [
    "### Task 3:\n",
    "1. Create a dictionary to store information about 3 friends (name as key and a tuple with age and favorite hobby as value).\n",
    "2. Print the details of all friends."
   ]
  },
  {
   "cell_type": "code",
   "execution_count": 6,
   "metadata": {},
   "outputs": [
    {
     "name": "stdout",
     "output_type": "stream",
     "text": [
      "my friends details are:\n",
      "{'nora', (27, 'painting'), (25, 'running'), 'sara', (24, 'traveling'), 'bdoor'}\n"
     ]
    }
   ],
   "source": [
    "friends={'sara',(25, 'running'), 'nora', (24, 'traveling'), 'bdoor', (27, 'painting')\n",
    "}\n",
    "print('my friends details are:')\n",
    "print(friends)"
   ]
  },
  {
   "cell_type": "markdown",
   "metadata": {},
   "source": [
    "### Task 4:\n",
    "1. Check if you have watched the movie and print an appropriate message.\n",
    "1. Check if a specific color is in your favorite colors set and print its availability status."
   ]
  },
  {
   "cell_type": "code",
   "execution_count": 11,
   "metadata": {},
   "outputs": [
    {
     "name": "stdout",
     "output_type": "stream",
     "text": [
      "My favorite movie details:\n",
      "('The Godfather', 1972, 9.2, True)\n",
      "My favorite colors are:\n",
      "{'black', 'blue', 'yellow', 'green', 'pink'}\n",
      "You've watched the movie\n",
      "red is not in my favorite colors set.\n"
     ]
    }
   ],
   "source": [
    "fav_m = ('The Godfather', 1972, 9.2, True)\n",
    "print('My favorite movie details:')\n",
    "print(fav_m)\n",
    "\n",
    "fav_c = {'blue', 'green', 'yellow', 'black', 'pink'}\n",
    "print('My favorite colors are:')\n",
    "print(fav_c)\n",
    "\n",
    "if fav_m[3] == True: \n",
    "    print(\"You  watched the movie\")\n",
    "else:\n",
    "    print(\"You haven't watched the movie\")\n",
    "\n",
    "specific_color = 'red' \n",
    "if specific_color in fav_c:\n",
    "    print(f\"{specific_color} is in my favorite colors set.\")\n",
    "else:\n",
    "    print(f\"{specific_color} is not in my favorite colors set.\")"
   ]
  },
  {
   "cell_type": "markdown",
   "metadata": {},
   "source": []
  }
 ],
 "metadata": {
  "language_info": {
   "name": "python"
  }
 },
 "nbformat": 4,
 "nbformat_minor": 2
}
